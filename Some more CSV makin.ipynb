{
 "cells": [
  {
   "cell_type": "code",
   "execution_count": 3,
   "id": "f9e4d146-2443-4936-b92a-2def90ed0888",
   "metadata": {},
   "outputs": [
    {
     "name": "stdout",
     "output_type": "stream",
     "text": [
      "Loaded pre-trained model.\n",
      "RMSE: 38.326304942691806\n",
      "MSE: 1468.9056505602025\n",
      "R-squared: 0.7783514878987591\n"
     ]
    },
    {
     "name": "stderr",
     "output_type": "stream",
     "text": [
      "D:\\Games\\Anaconda\\Lib\\site-packages\\sklearn\\metrics\\_regression.py:492: FutureWarning: 'squared' is deprecated in version 1.4 and will be removed in 1.6. To calculate the root mean squared error, use the function'root_mean_squared_error'.\n",
      "  warnings.warn(\n",
      "D:\\Games\\Anaconda\\Lib\\site-packages\\sklearn\\metrics\\_regression.py:492: FutureWarning: 'squared' is deprecated in version 1.4 and will be removed in 1.6. To calculate the root mean squared error, use the function'root_mean_squared_error'.\n",
      "  warnings.warn(\n"
     ]
    }
   ],
   "source": [
    "import pandas as pd\n",
    "import joblib\n",
    "import matplotlib.pyplot as plt\n",
    "import seaborn as sns\n",
    "import numpy as np\n",
    "from sklearn.impute import KNNImputer\n",
    "from sklearn.ensemble import RandomForestRegressor\n",
    "from sklearn.model_selection import train_test_split\n",
    "from sklearn.metrics import mean_squared_error, r2_score\n",
    "\n",
    "# 1. Load and Preprocess Data\n",
    "try:\n",
    "    df = pd.read_csv(\"PB003.csv\")\n",
    "except FileNotFoundError:\n",
    "    print(\"Error: PB003.csv not found. Please check the file path.\")\n",
    "    exit()\n",
    "\n",
    "df['From Date'] = pd.to_datetime(df['From Date'], format=\"%d-%m-%Y %H:%M\")\n",
    "df['To Date'] = pd.to_datetime(df['To Date'], format=\"%d-%m-%Y %H:%M\")\n",
    "\n",
    "df['Hour'] = df['From Date'].dt.hour\n",
    "df['DayOfWeek'] = df['From Date'].dt.dayofweek\n",
    "df['Month'] = df['From Date'].dt.month\n",
    "\n",
    "df_knn = df.drop(['From Date', 'To Date'], axis=1)\n",
    "imputer = KNNImputer(n_neighbors=5)\n",
    "df_imputed_knn = pd.DataFrame(imputer.fit_transform(df_knn), columns=df_knn.columns)\n",
    "\n",
    "df_imputed = df_imputed_knn.copy()\n",
    "df_imputed['From Date'] = df['From Date']\n",
    "df_imputed['To Date'] = df['To Date']\n",
    "\n",
    "target_column = 'PM10 (ug/m3)'  # Or PM2.5 if needed\n",
    "features = [col for col in df_imputed.columns if col not in [target_column, 'From Date', 'To Date']]\n",
    "X = df_imputed[features]\n",
    "y = df_imputed[target_column]\n",
    "\n",
    "\n",
    "\n",
    "# 2. Train-Test Split and Train Model \n",
    "X_train, X_test, y_train, y_test = train_test_split(X, y, test_size=0.2, random_state=42)\n",
    "\n",
    "try:  # Try loading a pre-trained model\n",
    "    model = joblib.load(\"trained_model_PM10.joblib\")  # Use correct filename for PM2.5 if needed\n",
    "    print(\"Loaded pre-trained model.\")\n",
    "except FileNotFoundError:  # If no saved model, train a new one\n",
    "    print(\"Training new model...\")\n",
    "    model = RandomForestRegressor(n_estimators=100, random_state=42)\n",
    "    model.fit(X_train, y_train)\n",
    "    joblib.dump(model, \"trained_model_PM10.joblib\") # Use correct filename for PM2.5 if needed\n",
    "    print(\"Trained and saved new model.\")\n",
    "\n",
    "# Save preprocessed DataFrame AND features\n",
    "joblib.dump(df_imputed, \"PB003_preprocessed_df.joblib\")  # Save DataFrame\n",
    "joblib.dump(features, \"PB003_features.joblib\")\n",
    "\n",
    "# 3. Predict\n",
    "y_pred = model.predict(X_test)  # Predictions on the test set\n",
    "\n",
    "df_imputed['Predictions'] = model.predict(X)\n",
    "\n",
    "# 4. Evaluate\n",
    "rmse = mean_squared_error(y_test, y_pred, squared=False)\n",
    "mse = mean_squared_error(y_test, y_pred, squared=True)\n",
    "r2 = r2_score(y_test, y_pred)\n",
    "\n",
    "print(f\"RMSE: {rmse}\")\n",
    "print(f\"MSE: {mse}\")\n",
    "print(f\"R-squared: {r2}\")"
   ]
  },
  {
   "cell_type": "code",
   "execution_count": null,
   "id": "f7b95aa4-b90e-4345-914e-a5af00b1088e",
   "metadata": {},
   "outputs": [],
   "source": []
  }
 ],
 "metadata": {
  "kernelspec": {
   "display_name": "Python 3 (ipykernel)",
   "language": "python",
   "name": "python3"
  },
  "language_info": {
   "codemirror_mode": {
    "name": "ipython",
    "version": 3
   },
   "file_extension": ".py",
   "mimetype": "text/x-python",
   "name": "python",
   "nbconvert_exporter": "python",
   "pygments_lexer": "ipython3",
   "version": "3.12.7"
  }
 },
 "nbformat": 4,
 "nbformat_minor": 5
}
