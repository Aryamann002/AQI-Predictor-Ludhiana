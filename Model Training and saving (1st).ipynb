{
 "cells": [
  {
   "cell_type": "code",
   "execution_count": 1,
   "id": "52505e5e-9808-452c-a741-9f926509dce7",
   "metadata": {},
   "outputs": [
    {
     "name": "stdout",
     "output_type": "stream",
     "text": [
      "Preprocessing and model training complete.  Files saved.\n"
     ]
    }
   ],
   "source": [
    "# training.py \n",
    "import pandas as pd\n",
    "import joblib\n",
    "from sklearn.impute import KNNImputer\n",
    "from sklearn.ensemble import RandomForestRegressor\n",
    "from sklearn.model_selection import train_test_split\n",
    "\n",
    "\n",
    "\n",
    "# 1. Load and Preprocess Data\n",
    "try:\n",
    "    df = pd.read_csv(\"PB003.csv\")\n",
    "except FileNotFoundError:\n",
    "    print(\"Error: PB003.csv not found. Please check the file path.\")\n",
    "    exit()\n",
    "\n",
    "df['From Date'] = pd.to_datetime(df['From Date'], format=\"%d-%m-%Y %H:%M\")\n",
    "df['To Date'] = pd.to_datetime(df['To Date'], format=\"%d-%m-%Y %H:%M\")\n",
    "\n",
    "df['Hour'] = df['From Date'].dt.hour\n",
    "df['DayOfWeek'] = df['From Date'].dt.dayofweek\n",
    "df['Month'] = df['From Date'].dt.month\n",
    "\n",
    "df_knn = df.drop(['From Date', 'To Date'], axis=1)\n",
    "imputer = KNNImputer(n_neighbors=5)\n",
    "df_imputed_knn = pd.DataFrame(imputer.fit_transform(df_knn), columns=df_knn.columns)\n",
    "\n",
    "df_imputed = df_imputed_knn.copy()\n",
    "df_imputed['From Date'] = df['From Date']\n",
    "df_imputed['To Date'] = df['To Date']\n",
    "\n",
    "\n",
    "\n",
    "# Train and Save PM2.5 Model\n",
    "target_column = 'PM2.5 (ug/m3)'\n",
    "features_pm25 = [col for col in df_imputed.columns if col not in [target_column, 'From Date', 'To Date']]\n",
    "X_pm25 = df_imputed[features_pm25]\n",
    "y_pm25 = df_imputed[target_column]\n",
    "X_train_pm25, X_test_pm25, y_train_pm25, y_test_pm25 = train_test_split(X_pm25, y_pm25, test_size=0.2, random_state=42)\n",
    "model_pm25 = RandomForestRegressor(n_estimators=100, random_state=42)\n",
    "model_pm25.fit(X_train_pm25, y_train_pm25)\n",
    "joblib.dump(model_pm25, \"trained_model_pm25.joblib\")\n",
    "\n",
    "\n",
    "\n",
    "# Train and Save PM10 Model\n",
    "target_column = 'PM10 (ug/m3)'\n",
    "features_pm10 = [col for col in df_imputed.columns if col not in [target_column, 'From Date', 'To Date']]\n",
    "X_pm10 = df_imputed[features_pm10]\n",
    "y_pm10 = df_imputed[target_column]\n",
    "X_train_pm10, X_test_pm10, y_train_pm10, y_test_pm10 = train_test_split(X_pm10, y_pm10, test_size=0.2, random_state=42)\n",
    "\n",
    "model_pm10 = RandomForestRegressor(n_estimators=100, random_state=42)\n",
    "model_pm10.fit(X_train_pm10, y_train_pm10)\n",
    "joblib.dump(model_pm10, \"trained_model_pm10.joblib\")\n",
    "\n",
    "\n",
    "\n",
    "\n",
    "# Save preprocessed DataFrame AND features\n",
    "joblib.dump(df_imputed, \"PB003_preprocessed_df.joblib\")\n",
    "joblib.dump(features_pm25, \"PB003_features_pm25.joblib\")\n",
    "joblib.dump(features_pm10, \"PB003_features_pm10.joblib\")\n",
    "\n",
    "print(\"Preprocessing and model training complete.  Files saved.\")"
   ]
  },
  {
   "cell_type": "code",
   "execution_count": null,
   "id": "2a4fb175-b845-45de-946f-717fac62dda7",
   "metadata": {},
   "outputs": [],
   "source": []
  }
 ],
 "metadata": {
  "kernelspec": {
   "display_name": "Python 3 (ipykernel)",
   "language": "python",
   "name": "python3"
  },
  "language_info": {
   "codemirror_mode": {
    "name": "ipython",
    "version": 3
   },
   "file_extension": ".py",
   "mimetype": "text/x-python",
   "name": "python",
   "nbconvert_exporter": "python",
   "pygments_lexer": "ipython3",
   "version": "3.12.7"
  }
 },
 "nbformat": 4,
 "nbformat_minor": 5
}
