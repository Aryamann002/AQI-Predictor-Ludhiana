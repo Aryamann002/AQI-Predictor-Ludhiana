{
 "cells": [
  {
   "cell_type": "code",
   "execution_count": 1,
   "id": "f1f89e66-cb8f-49cb-b938-a2533d91e87c",
   "metadata": {},
   "outputs": [
    {
     "name": "stderr",
     "output_type": "stream",
     "text": [
      "D:\\Games\\Anaconda\\Lib\\site-packages\\sklearn\\metrics\\_regression.py:492: FutureWarning: 'squared' is deprecated in version 1.4 and will be removed in 1.6. To calculate the root mean squared error, use the function'root_mean_squared_error'.\n",
      "  warnings.warn(\n",
      "D:\\Games\\Anaconda\\Lib\\site-packages\\sklearn\\metrics\\_regression.py:492: FutureWarning: 'squared' is deprecated in version 1.4 and will be removed in 1.6. To calculate the root mean squared error, use the function'root_mean_squared_error'.\n",
      "  warnings.warn(\n"
     ]
    },
    {
     "name": "stdout",
     "output_type": "stream",
     "text": [
      "RMSE: 19.61776453640282\n",
      "R-squared: 0.7838112215550046\n",
      "MSE: 384.8566854057441\n",
      "Predictions saved to PB003_predictions.csv\n"
     ]
    }
   ],
   "source": [
    "#PM 2.5\n",
    "import pandas as pd\n",
    "import joblib\n",
    "from sklearn.metrics import mean_squared_error, r2_score, f1_score\n",
    "from sklearn.model_selection import train_test_split \n",
    "\n",
    "# 1. Load the Preprocessed Data and the Saved Model\n",
    "try:\n",
    "    df_imputed = pd.read_csv(\"PB003_preprocessed.csv\") # Load preprocessed data\n",
    "    model = joblib.load(\"trained_model_PM25.joblib\")  # Load the trained model\n",
    "except FileNotFoundError:\n",
    "    print(\"Error: Make sure PB003_preprocessed.csv and trained_model_PM25.joblib are present and run the training/preprocessing notebook first!\")\n",
    "    exit()\n",
    "\n",
    "# Define your target and features (consistent with training)\n",
    "target_column = 'PM2.5 (ug/m3)'\n",
    "features = [col for col in df_imputed.columns if col not in [target_column, 'From Date', 'To Date']]\n",
    "\n",
    "\n",
    "# 2. Prepare the Data (Split into Training and Testing Sets)\n",
    "\n",
    "X = df_imputed[features]\n",
    "y = df_imputed[target_column]\n",
    "X_train, X_test, y_train, y_test = train_test_split(X, y, test_size=0.2, random_state=42)\n",
    "\n",
    "\n",
    "# 3. Make Predictions on the Test Set (Using the loaded model)\n",
    "y_pred = model.predict(X_test)\n",
    "\n",
    "\n",
    "# 4. Calculate RMSE and R-squared\n",
    "rmse = mean_squared_error(y_test, y_pred, squared=False)\n",
    "mse = mean_squared_error(y_test, y_pred, squared=True)  # MSE  (or just rmse**2)\n",
    "r2 = r2_score(y_test, y_pred)\n",
    "\n",
    "print(f\"RMSE: {rmse}\")\n",
    "print(f\"R-squared: {r2}\")\n",
    "print(f\"MSE: {mse}\")\n",
    "\n",
    "\n",
    "\n",
    "\n",
    "# Save the predictions to the dataframe and save as csv\n",
    "df_imputed['Predictions'] = model.predict(X)\n",
    "df_imputed.to_csv('PB003_predictions.csv', index=False)\n",
    "print(\"Predictions saved to PB003_predictions.csv\")"
   ]
  },
  {
   "cell_type": "code",
   "execution_count": null,
   "id": "9b27360e-f878-483a-b3de-c6fbdc756e46",
   "metadata": {},
   "outputs": [],
   "source": []
  }
 ],
 "metadata": {
  "kernelspec": {
   "display_name": "Python 3 (ipykernel)",
   "language": "python",
   "name": "python3"
  },
  "language_info": {
   "codemirror_mode": {
    "name": "ipython",
    "version": 3
   },
   "file_extension": ".py",
   "mimetype": "text/x-python",
   "name": "python",
   "nbconvert_exporter": "python",
   "pygments_lexer": "ipython3",
   "version": "3.12.7"
  }
 },
 "nbformat": 4,
 "nbformat_minor": 5
}
